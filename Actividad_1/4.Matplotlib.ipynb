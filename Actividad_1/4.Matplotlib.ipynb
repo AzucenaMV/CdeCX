{
 "cells": [
  {
   "cell_type": "markdown",
   "metadata": {},
   "source": [
    "Before you turn this problem in, make sure everything runs as expected. First, **restart the kernel** (in the menubar, select Kernel$\\rightarrow$Restart) and then **run all cells** (in the menubar, select Cell$\\rightarrow$Run All).\n",
    "\n",
    "Make sure you fill in any place that says `YOUR CODE HERE` or \"YOUR ANSWER HERE\", as well as your name and collaborators below:"
   ]
  },
  {
   "cell_type": "code",
   "execution_count": null,
   "metadata": {},
   "outputs": [],
   "source": [
    "NAME = \"\"\n",
    "COLLABORATORS = \"\""
   ]
  },
  {
   "cell_type": "markdown",
   "metadata": {},
   "source": [
    "---"
   ]
  },
  {
   "cell_type": "markdown",
   "metadata": {},
   "source": [
    "# <i class=\"fa fa-line-chart\"></i> Graficas básicas\n",
    "\n",
    "De manera indirecta hemos estado utilizando Matplotlib todos estos cuadernos, es momento de \n",
    "tener una probadita de las cosas que podemos visualizar con este módulo."
   ]
  },
  {
   "cell_type": "markdown",
   "metadata": {},
   "source": [
    "# Matplolib"
   ]
  },
  {
   "cell_type": "markdown",
   "metadata": {},
   "source": [
    "Es una libreria de Python para generar gráficos 2D, para visualizar y publicar imagenes en diversos formatos. \n",
    "\n",
    "Nosotros trabajaremos con el modulo pyplot que viene en la librería de matplotlib. En pyplot se puede tener control de cada elemento de la gráfica a traves de una interfaz orientada a objetos o a traves de funciones similares a las de MATLAB."
   ]
  },
  {
   "cell_type": "code",
   "execution_count": null,
   "metadata": {},
   "outputs": [],
   "source": [
    "import matplotlib.pyplot as plt\n",
    "import numpy as np"
   ]
  },
  {
   "cell_type": "markdown",
   "metadata": {},
   "source": [
    "Para más información de la paquetería "
   ]
  },
  {
   "cell_type": "code",
   "execution_count": null,
   "metadata": {},
   "outputs": [],
   "source": [
    "import IPython\n",
    "url = 'https://matplotlib.org'\n",
    "iframe = '<iframe src=' + url + ' width=700 height=350></iframe>'\n",
    "IPython.display.HTML(iframe)"
   ]
  },
  {
   "cell_type": "markdown",
   "metadata": {},
   "source": [
    "Algunos ejemplos de gráficas que puedes hacer con la biblioteca de matplotlib"
   ]
  },
  {
   "cell_type": "code",
   "execution_count": null,
   "metadata": {},
   "outputs": [],
   "source": [
    "%%HTML\n",
    "<iframe width=\"100%\" height=\"350\" src='https://matplotlib.org/gallery.html'></iframe>"
   ]
  },
  {
   "cell_type": "markdown",
   "metadata": {},
   "source": [
    "¡Empecemos a graficar!"
   ]
  },
  {
   "cell_type": "code",
   "execution_count": null,
   "metadata": {},
   "outputs": [],
   "source": [
    "x=np.linspace(1, 10, 10)\n",
    "plt.plot(x, x, label='linear') #Crea la grafica\n",
    "plt.ylabel('Eje y') #Nombres de los ejes\n",
    "plt.xlabel('Eje x')\n",
    "plt.title('Grafica 1') #Nombres del titulo\n",
    "plt.legend(loc='upper left') #Leyenda\n",
    "plt.show() #Muestra la grafica"
   ]
  },
  {
   "cell_type": "markdown",
   "metadata": {
    "collapsed": true
   },
   "source": [
    "Ahora intentemos otra gráfica cambiando los estilos de linea"
   ]
  },
  {
   "cell_type": "code",
   "execution_count": null,
   "metadata": {},
   "outputs": [],
   "source": [
    "t = np.arange(0, 5, 0.2)\n",
    "plt.plot(t, t, 'ro', t, t**2, 'cs', t, t**3, 'm^', t, np.exp(t),'bD') # Diferentes estilos\n",
    "plt.show()"
   ]
  },
  {
   "cell_type": "markdown",
   "metadata": {},
   "source": [
    "Tambien podemos poner multiples ventanas de graficas"
   ]
  },
  {
   "cell_type": "code",
   "execution_count": null,
   "metadata": {},
   "outputs": [],
   "source": [
    "t1 = np.arange(0.0, 5.0, 0.1)\n",
    "\n",
    "plt.subplot(211) # subplot(nrows, ncols, plot_number)\n",
    "plt.plot(t1,np.cos(2*np.pi*t1), 'b:')\n",
    "\n",
    "plt.subplot(212)\n",
    "plt.plot(t1, np.cos(2*np.pi*t1), 'r--')\n",
    "\n",
    "plt.show()"
   ]
  },
  {
   "cell_type": "markdown",
   "metadata": {},
   "source": [
    "## Otros tipos de gráficas"
   ]
  },
  {
   "cell_type": "markdown",
   "metadata": {},
   "source": [
    "### Gráfica de dispersión"
   ]
  },
  {
   "cell_type": "code",
   "execution_count": null,
   "metadata": {},
   "outputs": [],
   "source": [
    "x = np.random.normal(0,1,200)\n",
    "y = np.random.normal(0,1,200)\n",
    "w,z = np.random.rand(2, 50)\n",
    "t,c = np.random.rand(2, 50, 4)\n",
    "\n",
    "plt.figure(figsize=(10,5)) #tamaño de la figura\n",
    "plt.subplot(121)\n",
    "plt.scatter(x,y)\n",
    "\n",
    "plt.subplot(122)\n",
    "plt.scatter(w,z,s=np.square(t)*500, c=c) #Variando color y tamaño\n",
    "plt.show()"
   ]
  },
  {
   "cell_type": "markdown",
   "metadata": {},
   "source": [
    "## Histograma"
   ]
  },
  {
   "cell_type": "code",
   "execution_count": null,
   "metadata": {},
   "outputs": [],
   "source": [
    "n = np.random.randn(1000)\n",
    "\n",
    "plt.figure(figsize=(10,5)) #tamaño de la figura\n",
    "plt.subplot(121)\n",
    "plt.hist(n,bins=15)\n",
    "\n",
    "plt.subplot(122)\n",
    "plt.hist(n,bins=15,normed=True, cumulative=True)\n",
    "\n",
    "plt.show()"
   ]
  },
  {
   "cell_type": "markdown",
   "metadata": {},
   "source": [
    "#### Grafica de barras"
   ]
  },
  {
   "cell_type": "code",
   "execution_count": null,
   "metadata": {},
   "outputs": [],
   "source": [
    "objects = ('Python', 'C++', 'Java', 'Perl', 'Scala', 'Lisp')\n",
    "y_pos = np.arange(len(objects))\n",
    "performance = [10,8,6,4,2,1]\n",
    " \n",
    "plt.bar(y_pos, performance, align='center', alpha=0.5)\n",
    "plt.xticks(y_pos, objects)\n",
    "plt.ylabel('Usage')\n",
    "plt.title('Programming language usage')\n",
    " \n",
    "plt.show()"
   ]
  },
  {
   "cell_type": "markdown",
   "metadata": {},
   "source": [
    "# Imagenes"
   ]
  },
  {
   "cell_type": "markdown",
   "metadata": {},
   "source": [
    "Ahora juguemos un poco con imagenes"
   ]
  },
  {
   "cell_type": "code",
   "execution_count": null,
   "metadata": {},
   "outputs": [],
   "source": [
    "import matplotlib.image as mpimg #Importando modulo para imagenes"
   ]
  },
  {
   "cell_type": "code",
   "execution_count": null,
   "metadata": {},
   "outputs": [],
   "source": [
    "%matplotlib inline\n",
    "img=mpimg.imread('color_wheel.png')\n",
    "plt.imshow(img)"
   ]
  },
  {
   "cell_type": "code",
   "execution_count": null,
   "metadata": {},
   "outputs": [],
   "source": [
    "print(type(img))\n",
    "print(img)"
   ]
  },
  {
   "cell_type": "markdown",
   "metadata": {},
   "source": [
    "¿Qué ha pasado con la imagen?\n",
    "Matplotlib guarda nuestra imagen como una matriz, donde cada entrada nos indica el color."
   ]
  },
  {
   "cell_type": "code",
   "execution_count": null,
   "metadata": {},
   "outputs": [],
   "source": [
    "lum_img = img[150:300,600:800,:]\n",
    "plt.imshow(lum_img)"
   ]
  },
  {
   "cell_type": "markdown",
   "metadata": {},
   "source": [
    "Y así podemos seleccionar una parte de nuestra imagen"
   ]
  },
  {
   "cell_type": "code",
   "execution_count": null,
   "metadata": {},
   "outputs": [],
   "source": [
    "lum_img = img[:,:,2] #Canales RGB\n",
    "plt.imshow(lum_img)\n",
    "plt.colorbar()"
   ]
  },
  {
   "cell_type": "code",
   "execution_count": null,
   "metadata": {},
   "outputs": [],
   "source": [
    "O incluso usar solo un canal RGB"
   ]
  },
  {
   "cell_type": "code",
   "execution_count": null,
   "metadata": {},
   "outputs": [],
   "source": []
  }
 ],
 "metadata": {
  "kernelspec": {
   "display_name": "Python [conda env:my-rdkit-env]",
   "language": "python",
   "name": "conda-env-my-rdkit-env-py"
  },
  "language_info": {
   "codemirror_mode": {
    "name": "ipython",
    "version": 2
   },
   "file_extension": ".py",
   "mimetype": "text/x-python",
   "name": "python",
   "nbconvert_exporter": "python",
   "pygments_lexer": "ipython2",
   "version": "2.7.13"
  }
 },
 "nbformat": 4,
 "nbformat_minor": 2
}
