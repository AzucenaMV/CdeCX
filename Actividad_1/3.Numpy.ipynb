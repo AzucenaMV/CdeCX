{
 "cells": [
  {
   "cell_type": "markdown",
   "metadata": {},
   "source": [
    "Before you turn this problem in, make sure everything runs as expected. First, **restart the kernel** (in the menubar, select Kernel$\\rightarrow$Restart) and then **run all cells** (in the menubar, select Cell$\\rightarrow$Run All).\n",
    "\n",
    "Make sure you fill in any place that says `YOUR CODE HERE` or \"YOUR ANSWER HERE\", as well as your name and collaborators below:"
   ]
  },
  {
   "cell_type": "code",
   "execution_count": null,
   "metadata": {},
   "outputs": [],
   "source": [
    "NAME = \"\"\n",
    "COLLABORATORS = \"\""
   ]
  },
  {
   "cell_type": "markdown",
   "metadata": {},
   "source": [
    "---"
   ]
  },
  {
   "cell_type": "markdown",
   "metadata": {},
   "source": [
    "# Numpy y arreglos\n",
    "\n",
    "# <i class=\"fa fa-th\" aria-hidden=\"true\"></i> Arreglos\n",
    "\n",
    "Los arreglos en una forma de guardar información (*data structure*).\n",
    "\n",
    "<div class=\"alert alert-info\">\n",
    "<center>\n",
    "Una estructura de datos es una manera de organizar la información que queremos para un proceso en un programa.\n",
    "</div>\n",
    "\n",
    "Un arreglo es una estructura de datos donde éstos están acomodados en casillas.\n",
    "En una dimensión, estas estructuras organizan una sequencia, como por ejemplo vectores o bien una palabra.\n",
    "Los *elementos* de un arreglo usualmente tienen índices como números enteros de 0 to N-1,\n",
    "donde N es la longitud de un arreglo.\n",
    "\n",
    "Un arreglo de dos dimensiones, puede ser visto como una sequencia de arreglos de una dimensión.\n",
    "Por ello para referirnos a un elemento necesitamos dos índices.\n",
    "Una forma intutitiva de esto es imaginarlo como un arreglo de 2 dimensiones o una marix.\n",
    "\n",
    "Las siguientes figuras ilustran como puedes usar índices en un arreglo de 1 o 2 dimensiones.\n",
    "[//]: ![index1D](files/index1D.png)\n",
    "<img src=\"files/index1D.png\" width=\"300\" height=\"200\"> \n",
    "[//]: ![index2D](files/index2D.png)\n",
    "<img src=\"files/index2D.png\" width=\"300\" height=\"200\">\n",
    "\n",
    "# Numpy\n",
    "\n",
    "Hay differentes formas de guardar arreglos en Python. Ya hemos vista una por el momento,\n",
    "la *lista*.\n",
    "En cómputo científico, los arreglos normalmente se utilizan para guardar vectores o matrices, que corresponden\n",
    "a 1D y 2D arreglos respectivamente.\n",
    "\n",
    "Para estos cálculos, vamos a usar ampliamente *Numpy*:\n",
    "\n",
    "[![](http://upload.wikimedia.org/wikipedia/en/1/1b/NumPy_logo.png)](http://www.numpy.org/)"
   ]
  },
  {
   "cell_type": "markdown",
   "metadata": {},
   "source": [
    "El módulo NumPY contiene muchas herramientas matemáticas que nos facilitarán el tratamiento de muchos datos experimentales. Por ejemplo, con NumPY tenemos la posibilidad de introducir vectores y matrices cuyas características se ven ejemplificadas en la siguiente ventana de código. "
   ]
  },
  {
   "cell_type": "code",
   "execution_count": null,
   "metadata": {},
   "outputs": [],
   "source": [
    "import numpy #importamos al módulo NumPY para poder usarlo\n",
    "a = numpy.array([1,2,3]) #creamos una lista de de clase array (equivalente a vectores y matrices) y le asignamos \n",
    "print(a) # vamos a visualizarlo "
   ]
  },
  {
   "cell_type": "markdown",
   "metadata": {},
   "source": [
    "Para los que no están familiarizado con vectores, vamos a hacer un pequeño repaso.\n",
    "\n",
    "Los vectores son listas de números que nos dan su ubicación en cierto espacio. \n",
    "Por ejemplo, visualicemos un vector de dos elementos $<2,3>$  "
   ]
  },
  {
   "cell_type": "code",
   "execution_count": null,
   "metadata": {},
   "outputs": [],
   "source": [
    "import numpy as np #En vez de siempre escribir numpy antes de cada función, se importa a numpy como np\n",
    "import matplotlib.pyplot as plt\n",
    "\n",
    "soa = np.array([[0, 0, 2, 3]]) # Es poco complicado gráficar vector así que hagan caso omiso del siguiente código. \n",
    "X, Y, U, V = zip(*soa)\n",
    "plt.figure()\n",
    "ax = plt.gca()\n",
    "ax.quiver(X, Y, U, V, angles='xy', scale_units='xy', scale=1)\n",
    "ax.set_xlim([-1, 10])\n",
    "ax.set_ylim([-1, 10])\n",
    "plt.show()"
   ]
  },
  {
   "cell_type": "markdown",
   "metadata": {},
   "source": [
    "Este vector lo podemos hacer más largo o más corto al multiplicarlo por números, vemos los siguientes casos: \n",
    "- Caso A: $3<2,3>$\n",
    "- Caso B: $\\frac{1}{3}<2,3>$\n",
    "\n",
    "Grafiquemoslos!"
   ]
  },
  {
   "cell_type": "code",
   "execution_count": null,
   "metadata": {},
   "outputs": [],
   "source": [
    "import numpy as np\n",
    "import matplotlib.pyplot as plt\n",
    "\n",
    "soa = 3*np.array([[0, 0, 2, 3]])\n",
    "X, Y, U, V = zip(*soa)\n",
    "plt.figure(figsize=(10, 4))\n",
    "plt.subplot(1,2,1)\n",
    "ax = plt.gca()\n",
    "ax.quiver(X, Y, U, V, angles='xy', scale_units='xy', scale=1)\n",
    "ax.set_xlim([-1, 10])\n",
    "ax.set_ylim([-1, 10])\n",
    "\n",
    "soa = 1/3*np.array([[0, 0, 2, 3]])\n",
    "X, Y, U, V = zip(*soa)\n",
    "plt.subplot(1,2,2)\n",
    "ax = plt.gca()\n",
    "ax.quiver(X, Y, U, V, angles='xy', scale_units='xy', scale=1)\n",
    "ax.set_xlim([-1, 10])\n",
    "ax.set_ylim([-1, 10])\n",
    "plt.show()"
   ]
  },
  {
   "cell_type": "markdown",
   "metadata": {},
   "source": [
    " Tambien los podemos sumar!  "
   ]
  },
  {
   "cell_type": "code",
   "execution_count": null,
   "metadata": {},
   "outputs": [],
   "source": [
    "A = np.array([5,8]) # A = <5,8>\n",
    "B = np.array([3,9]) # B = <3,9>\n",
    "print('A+B=',A+B, '   A-B=',A-B)"
   ]
  },
  {
   "cell_type": "markdown",
   "metadata": {},
   "source": [
    "Además de vectores, con los mismos arrays, podemos crear matrices: \n",
    "\n",
    " $A_{m,n} =\n",
    "   \\begin{pmatrix}\n",
    "    a_{1,1} & a_{1,2} & \\cdots & a_{1,n} \\\\\n",
    "    a_{2,1} & a_{2,2} & \\cdots & a_{2,n} \\\\\n",
    "    \\vdots  & \\vdots  & \\ddots & \\vdots  \\\\\n",
    "    a_{m,1} & a_{m,2} & \\cdots & a_{m,n}\n",
    "   \\end{pmatrix}$"
   ]
  },
  {
   "cell_type": "code",
   "execution_count": null,
   "metadata": {},
   "outputs": [],
   "source": [
    "m1 = np.array([[1,2,3],[4,5,6],[7,8,9]]) #Creamos una matriz cuadrada 3x3, cada sublista siendo los renglones de las matrces \n",
    "print(m1)\n",
    "np.shape(m1) #Imprime el tamaño del array 'm1'"
   ]
  },
  {
   "cell_type": "markdown",
   "metadata": {},
   "source": [
    "En muchos problemas, luego nos interesa extraer de una tabla o matriz de datos ciertos elementos, ya sean columnas, renglones o elementos. Para esto usamos 'slicing'! "
   ]
  },
  {
   "cell_type": "code",
   "execution_count": null,
   "metadata": {},
   "outputs": [],
   "source": [
    "m1[0,:] # usamos el array del código pasado y elegimos a su primer renglon, donde m1[x,y]"
   ]
  },
  {
   "cell_type": "markdown",
   "metadata": {
    "collapsed": true
   },
   "source": [
    "También podemos crear listas de ceros o unos con el objetivo de luego incluir datos en ellas. "
   ]
  },
  {
   "cell_type": "code",
   "execution_count": null,
   "metadata": {},
   "outputs": [],
   "source": [
    "x = np.zeros((3,3)) #creamos un array de ceros con forma de una matriz (3,3)\n",
    "print(x, 'Type(x) =',type(x)) \n",
    "\n",
    "y = np.ones((3,3)) #creamos un array de unos con forma de una matriz (3,3)\n",
    "#print(y)\n",
    "\n",
    "z = np.linspace(0,1,9) #aquí creamos una array al dividir el intervalo [0,1] en 10 partes, siendo n+1 = n + 1/8 \n",
    "#print('z =',z)\n",
    "\n",
    "z = z.reshape(3,3) #podemos cmabiar el array lineal a uno de una matriz (3,3) con 'np.reshape()'\n",
    "#print(z, 'z shape=',np.shape(z))"
   ]
  },
  {
   "cell_type": "code",
   "execution_count": null,
   "metadata": {},
   "outputs": [],
   "source": [
    "Tambien podemos utilizarlo como la función range, para crear una lista de números reales, \n",
    "en cierto intervalo. Por ejemplo:"
   ]
  },
  {
   "cell_type": "code",
   "execution_count": null,
   "metadata": {},
   "outputs": [],
   "source": [
    "times = np.arange(0,1,0.01)\n",
    "print times"
   ]
  },
  {
   "cell_type": "markdown",
   "metadata": {},
   "source": [
    "Otra facilidad que nos proporciona usar los NumPy arrays es que podemos modificar elemento a elemento\n",
    "de un arreglo, sin tener que utilizar bucles para evaluar uno a uno."
   ]
  },
  {
   "cell_type": "markdown",
   "metadata": {},
   "source": [
    "# Extra: Jugando baloncesto \n",
    "\n",
    "Vamos a calcular una función que calcule el tiempo en que una pelota llega a cierta altura en una\n",
    "canasta. Utilizando fórmilas de la mecánica clásica.\n",
    "\n",
    "$$ y_{final} = y_{inicial} +v_{inicial} * sin(\\theta)t - \\frac{1}{2} g t^2 $$\n",
    "donde $v_{inicial}$ y $\\theta$ son la velocidad inicial y ángulo de lanzamiento, \n",
    "$t$ es el tiempo y g es el valor de la la contante ($9.81~\\text{m/s}^2$).\n",
    "Entonces, cuando resolvemos está equación, tenemos:\n",
    "\\begin{array}{*{20}c} {x = \\frac{{ - b \\pm \\sqrt {b^2 - 4ac} }}{{2a}}} \\end{array}\n",
    "\n",
    "\n",
    "donde \n",
    "\\begin{eqnarray}\n",
    "a &=& \\frac{g}{2}\\\\\n",
    "b &=& -v_{initial} * sin(\\theta) \\\\\n",
    "c &=& y_{final}-y_{initial}\n",
    "\\end{eqnarray}\n",
    "\n",
    "Con esto en mente, vamo a completar las funciones siguientes:\n",
    "\n",
    "Nota: en caso de necesitar senos o cosenos, utiliza la función de numpy.\n",
    "De esta manera, podrá tratar tanto números reales, como matrices o vectores, elemento a elemento,\n",
    "(¡no tendrás que hacer un blucle para ello!)\n"
   ]
  },
  {
   "cell_type": "code",
   "execution_count": null,
   "metadata": {
    "deletable": false,
    "nbgrader": {
     "checksum": "c78a6c16f1aa48aa0e24f548bd87e8ee",
     "grade": true,
     "grade_id": "cell-f5d9c573e8581cf6",
     "locked": false,
     "points": 1,
     "schema_version": 1,
     "solution": true
    }
   },
   "outputs": [],
   "source": [
    "def deg_to_rad(angle_deg):\n",
    "    '''Esta función convierte de ángulos en grados \n",
    "    a radianes\n",
    "    INPUT:\n",
    "        angle_deg -> angulo en grados\n",
    "    OUTPUT:\n",
    "        angle_rad -> agulo en radianes\n",
    "    '''\n",
    "    ### Define el valor de pi, en una variable llamada pi\n",
    "    # YOUR CODE HERE\n",
    "    raise NotImplementedError()\n",
    "    angle_rad = angle_deg*pi/180.0\n",
    "    return angle_rad\n",
    "\n",
    "def time_in_basket(v_initial,theta_deg,height):\n",
    "\n",
    "    ''' Esta funcion resuelve la función cuadrática, y regresa el tiempo\n",
    "    en que la pelota llega a una altura dada\n",
    "    INPUTS:\n",
    "        v_initial -> velocidad inicial\n",
    "        theta -> angulo en grados\n",
    "        height -> la altura inicial del balon\n",
    "    OUTPUTS:\n",
    "        time -> tiempo\n",
    "    '''\n",
    "    \n",
    "    ###  Usamos nuestra función para cambiar de grados a radianes.\n",
    "    theta_rad = deg_to_rad(theta_deg)\n",
    "    \n",
    "    ### Ahora definimos, las variables llamas a,b, y c.\n",
    "    ### que contienen la ecuación cuadrática.\n",
    "    a = 9.81/2.0\n",
    "    b = -np.sin(theta_rad)*v_initial\n",
    "    c = -height+3.05\n",
    "    \n",
    "    ### Ahora vamos a calcular la función dentro del\n",
    "    ### valor de la raiz cuadrada, llamala  prev_sqroot \n",
    "    ### (Una línea) \n",
    "    # YOUR CODE HERE\n",
    "    raise NotImplementedError()\n",
    "    \n",
    "    ### Ahora, solo para revisar, si nuestro tiro va a poder llegar\n",
    "    ### a la canasta, vamos a checkar si es negativo\n",
    "    if pre_sqroot < 0:\n",
    "        raise ValueError(\"Intenta una velocidad mayor o un ángulo differente\") # Esto va a regresar un error\n",
    "    ### Ahora nosotros calculamos la raiz cuadrada y el numerador\n",
    "    numerator = np.sqrt(pre_sqroot)-b \n",
    "    ## Ahora tomamos el negativo de la raiz cuadrada, porque esperamos\n",
    "    ## que la bola vaya hacía arriba y luego hacia abajo (tiro parabólico).\n",
    "    ## Y el resto de la fórmula.\n",
    "    denominator = 2.0*a\n",
    "    time =  numerator/denominator\n",
    "    return time"
   ]
  },
  {
   "cell_type": "markdown",
   "metadata": {},
   "source": [
    "Y ahora vamos a probar nuestra función, primero con un valor concido.\n",
    "\n",
    "For ejemplo, si nosotros hemos lanzado un balón de una altura de 2.10m (solo súper altos),\n",
    "y la velocidad inicial es de 9.5m/s, y un àngulo de \n",
    "35.0 deg, el tiempo debe de ser approx a 0.89 s."
   ]
  },
  {
   "cell_type": "code",
   "execution_count": null,
   "metadata": {},
   "outputs": [],
   "source": [
    "### We define the initial parameters\n",
    "v_test = 9.5\n",
    "theta_test = 35.0\n",
    "height_test = 2.10\n",
    "### Using the function\n",
    "time_test = time_in_basket(v_test,theta_test,height_test)\n",
    "print (time_test)"
   ]
  },
  {
   "cell_type": "markdown",
   "metadata": {},
   "source": [
    "Ademàs de estar interesando en el tiempo en que la bola llegará a la canasta, \n",
    "estamos interesados en ver el trajecto del tiro, para eso vamos a calcular las posiciones x y y a cierto tiempo:\n",
    "\n",
    "Por favor, utiliza las siguiente funciones para calcular la posición x  y x:\n",
    "\\begin{eqnarray}\n",
    "x &=& v_{initial} * cos(\\theta)t \\\\\n",
    "y &=& v_{initial} * sin(\\theta)t - \\frac{1}{2} g t^2\n",
    "\\end{eqnarray}\n"
   ]
  },
  {
   "cell_type": "code",
   "execution_count": null,
   "metadata": {
    "deletable": false,
    "nbgrader": {
     "checksum": "af52b05b91ef3b1b0a1c556b0261b4cd",
     "grade": true,
     "grade_id": "cell-e118dc0c0634880e",
     "locked": false,
     "points": 1,
     "schema_version": 1,
     "solution": true
    }
   },
   "outputs": [],
   "source": [
    "def position(t,v0,theta_deg):\n",
    "    '''Esta función regresa la posición en x y en y de un tiro parabólico,\n",
    "    dada una condición inicial t y v0.\n",
    "    INPUT:\n",
    "        t -> tiempo (puede ser un número o un array) \n",
    "        v0 -> rapidez inicial (un numero)\n",
    "        theta_deg -> el ángulo del tiro\n",
    "    OUTPUT:\n",
    "        x -> la posición x\n",
    "        y -> la posición y \n",
    "    '''\n",
    "    # Define una variable para la constante g\n",
    "    g = 9.81 \n",
    "    # Convertimos de grados a radianes\n",
    "    theta_rad = deg_to_rad(theta_deg)\n",
    "    ### Calcula los valores correspondientes\n",
    "    ### de x y y.\n",
    "    ### Y assignalos a variables llamadas x y y.\n",
    "    # YOUR CODE HERE\n",
    "    raise NotImplementedError()\n",
    "    ### NOTA: que podemos regresar varias variables\n",
    "    ### como salida :)\n",
    "    return x,y"
   ]
  },
  {
   "cell_type": "code",
   "execution_count": null,
   "metadata": {},
   "outputs": [],
   "source": [
    "### Esta función es para graficar la trajectoria.\n",
    "### Solor corre esta celda\n",
    "### Si quieres saber como funciona pregunta a tu intructor\n",
    "### NO NECESITAS PROGRAMAR AQUI.\n",
    "import matplotlib.pyplot as plt\n",
    "import numpy as np\n",
    "\n",
    "from matplotlib.patches import Circle\n",
    "from matplotlib.offsetbox import (TextArea, DrawingArea, OffsetImage,\n",
    "                                  AnnotationBbox)\n",
    "from scipy.misc import imread\n",
    "from matplotlib.cbook import get_sample_data\n",
    "%matplotlib inline\n",
    "\n",
    "def plot_shot(x,y,height,name=\"Student\"):\n",
    "    fig, ax = plt.subplots(figsize=(9,4))\n",
    "    ax.axis([-1.0,8.0,0.0,4.0])\n",
    "    ax.set_title(\"Trajectoria de la pelota\")\n",
    "    \n",
    "    ### Graficando la trajectoria\n",
    "    ax.plot(x,y+height)\n",
    "    \n",
    "    ### Anado la imagen de fulianita\n",
    "    arr_img = plt.imread(\"files/basketplayer.jpg\")\n",
    "    imagebox = OffsetImage(arr_img, zoom=0.25)\n",
    "    imagebox.image.axes = ax\n",
    "    xy = [0,1.1]\n",
    "    ab = AnnotationBbox(imagebox, xy,\n",
    "                        xycoords='data',\n",
    "                        frameon=False\n",
    "                        )\n",
    "\n",
    "    ax.add_artist(ab)\n",
    "    \n",
    "    ### el nombre de fulanita\n",
    "    offsetbox = TextArea(name, minimumdescent=False)\n",
    "    xy = [2.0,1.5]\n",
    "    ab = AnnotationBbox(offsetbox, xy,\n",
    "                        arrowprops=dict(arrowstyle=\"->\"),\n",
    "                       frameon=False)\n",
    "    ax.add_artist(ab)\n",
    "\n",
    "    ### una fecha\n",
    "    ax.annotate(\"\",\n",
    "            xy=(0.5, 1.0), xycoords='data',\n",
    "            xytext=xy, textcoords='data',\n",
    "            arrowprops=dict(arrowstyle=\"->\",\n",
    "                            connectionstyle=\"arc3\"),\n",
    "            )\n",
    "    \n",
    "    ### esta es nuestra canasta\n",
    "    ax.plot([7.0-0.25,7.0+0.25],[3.05, 3.05],'k-', lw=3)\n",
    "    ax.plot([7.0+0.25,7.0+0.25],[0, 3.5],'k-', lw=4)\n",
    "    ax.plot([7.0+0.25,7.0+0.25],[2.5, 3.5],'k-', lw=8)\n",
    "\n",
    "    ### anadiendo la pelota al final de la tajectoria\n",
    "    circ=plt.Circle((x[-1],y[-1]+height), radius=0.12, color='r', \n",
    "                    fc=\"r\", ec=\"r\",fill=True, alpha=1.0)\n",
    "    ax.add_artist(circ)\n",
    "    \n",
    "    plt.show()\n",
    "    return"
   ]
  },
  {
   "cell_type": "code",
   "execution_count": null,
   "metadata": {},
   "outputs": [],
   "source": [
    "### Estos son nuestros parámetros:\n",
    "v_test = 9.5\n",
    "theta_test = 35.0\n",
    "height_test = 1.60\n",
    "\n",
    "\n",
    "### Obtenemos el tiempo en que llega a esa altura\n",
    "time_test = time_in_basket(v_test,theta_test,height_test)\n",
    "\n",
    "### creamos un arreglo con varios valores del tiempo\n",
    "times_test = np.arange(0,time_test,0.01)\n",
    "\n",
    "\n",
    "### Obtenemos las trajectorias x y y\n",
    "x_test,y_test = position(times_test,v_test,theta_test)\n",
    "\n",
    "### Llamamos a la función para imprimir la trajectoria hasta la altura de la canasta\n",
    "plot_shot(x_test,y_test,height_test,name='Fulanito')\n",
    "\n",
    "\n",
    "x_test,y_test = position(time_test,v_test,theta_test)"
   ]
  },
  {
   "cell_type": "markdown",
   "metadata": {
    "collapsed": true,
    "deletable": false,
    "nbgrader": {
     "checksum": "405e8a53325b3888a5cccb4de37d6436",
     "grade": true,
     "grade_id": "cell-a7420be584d524a8",
     "locked": false,
     "points": 1,
     "schema_version": 1,
     "solution": true
    }
   },
   "source": [
    "## Pregunta:\n",
    "Tu tiro fue existoso?\n",
    "YOUR ANSWER HERE"
   ]
  },
  {
   "cell_type": "markdown",
   "metadata": {
    "collapsed": true
   },
   "source": [
    "Viola! Aparentemente hemos logrado nuestro objetivo, predecir encestar con las condiciones iniciales dadas con la ayuda de NumPY arrays!\n",
    "\n",
    "#  Habriento de más matemáticas: Un poco de algebra lineal \n",
    "Este sólo es un ejemplo de muchos de lo que pueden hacer con estos fabulosos objetos, pero cabría resaltar una cosa, aunque hemos supuesto que fungen como matrices, no hemos visto si dos arrays cumplen con la multiplicación maticial. "
   ]
  },
  {
   "cell_type": "code",
   "execution_count": null,
   "metadata": {},
   "outputs": [],
   "source": [
    "A = np.arange(0,9).reshape(3,3) \n",
    "print(A)\n",
    "A*A "
   ]
  },
  {
   "cell_type": "markdown",
   "metadata": {},
   "source": [
    "Vemos que no cumple con la regla de multiplicación matricial, que la multiplicación es uno a uno. Para esto, podemos crear matrices dentro del mismo módulo NumPY con el siguiente código. "
   ]
  },
  {
   "cell_type": "code",
   "execution_count": null,
   "metadata": {},
   "outputs": [],
   "source": [
    "a = np.matrix([[1,2],[3,4]]) #creamos una matriz 2x2\n",
    "a*a #multiplicamos a ambas matrices"
   ]
  }
 ],
 "metadata": {
  "kernelspec": {
   "display_name": "Python [conda env:my-rdkit-env]",
   "language": "python",
   "name": "conda-env-my-rdkit-env-py"
  },
  "language_info": {
   "codemirror_mode": {
    "name": "ipython",
    "version": 2
   },
   "file_extension": ".py",
   "mimetype": "text/x-python",
   "name": "python",
   "nbconvert_exporter": "python",
   "pygments_lexer": "ipython2",
   "version": "2.7.13"
  }
 },
 "nbformat": 4,
 "nbformat_minor": 2
}
