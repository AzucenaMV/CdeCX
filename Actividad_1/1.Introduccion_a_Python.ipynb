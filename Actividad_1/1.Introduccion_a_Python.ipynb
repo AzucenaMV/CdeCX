{
 "cells": [
  {
   "cell_type": "markdown",
   "metadata": {},
   "source": [
    "Before you turn this problem in, make sure everything runs as expected. First, **restart the kernel** (in the menubar, select Kernel$\\rightarrow$Restart) and then **run all cells** (in the menubar, select Cell$\\rightarrow$Run All).\n",
    "\n",
    "Make sure you fill in any place that says `YOUR CODE HERE` or \"YOUR ANSWER HERE\", as well as your name and collaborators below:"
   ]
  },
  {
   "cell_type": "code",
   "execution_count": null,
   "metadata": {},
   "outputs": [],
   "source": [
    "NAME = \"\"\n",
    "COLLABORATORS = \"\""
   ]
  },
  {
   "cell_type": "markdown",
   "metadata": {},
   "source": [
    "---"
   ]
  },
  {
   "cell_type": "markdown",
   "metadata": {},
   "source": [
    "# Bienvenidos todos! #"
   ]
  },
  {
   "cell_type": "markdown",
   "metadata": {},
   "source": [
    "Una parte esencial del club va a ser la manipulación de imágenes y generación de pequeños videos. Esto lo haremos principalmente en el lenguaje de programación Python usando iPython notebooks (estos cuadernos de código). \n",
    "A continuación va una breve introducción sobre el uso básico de esta herramienta. \n",
    "\n",
    "Algunas celdas contienen ejercicios por contestar, para ello asegurate de llenar los espacios que dicen:\n",
    "\"YOUR CODE HERE\" or \"YOUR ANSWER HERE\", y borra la línea \"raise NotImplementedError()\" en las celdas de código.\n"
   ]
  },
  {
   "cell_type": "markdown",
   "metadata": {},
   "source": [
    "\n",
    "\n",
    "# 1 Introducción a cuadernos de IPython \n",
    "![ipython logo](http://ipython.org/_static/IPy_header.png)\n",
    "![python logo](https://www.python.org/static/community_logos/python-logo-generic.svg)\n",
    "\n",
    "### ¿Qué son exactamente? \n",
    "\n",
    "Un cuaderno de iPython es un ambiente interactivo para escribir y correr código de Python. \n",
    "\n",
    "Es completamente auto-contenido, y puede ser convertido a varios otros formatos para compartir con amigos y colaboradores. \n",
    "\n",
    "Es particularmente popular en la comunidad de cómputo científico, ya que es una gran herramienta para análisis de datos interactivo y visualización. \n",
    "\n",
    "Puedes combinar: \n",
    "- código\n",
    "- widgets interactivos\n",
    "- gráficas\n",
    "- Texto narrativo\n",
    "- Ecuaciones\n",
    "- Imágenes\n",
    "- Video"
   ]
  },
  {
   "cell_type": "markdown",
   "metadata": {},
   "source": [
    "## Comencemos! \n",
    "# 2 Ejecutando código\n",
    "## 2.1 <i class=\"fa fa-code\"></i> Ejecutando código"
   ]
  },
  {
   "cell_type": "markdown",
   "metadata": {},
   "source": [
    "En estos cuadernos interactivos, el código se escribe en \"celdas\" (\"cells\", en inglés). \n",
    "\n",
    "Ejecuta el código de una celda con las teclas `Shift-Enter` o presionando el botón <button class='btn btn-default btn-xs'><i class=\"icon-play fa fa-play\"></i></button> en la barra de herramientas de arriba: "
   ]
  },
  {
   "cell_type": "code",
   "execution_count": null,
   "metadata": {},
   "outputs": [],
   "source": [
    "print(\"Hola Mundo, Hola Cluberos!\")"
   ]
  },
  {
   "cell_type": "markdown",
   "metadata": {},
   "source": [
    "Ejecuta esta otra celda, usando Python como una calculadora. "
   ]
  },
  {
   "cell_type": "code",
   "execution_count": null,
   "metadata": {},
   "outputs": [],
   "source": [
    "2+2 "
   ]
  },
  {
   "cell_type": "code",
   "execution_count": null,
   "metadata": {},
   "outputs": [],
   "source": [
    "# Cuando escribes el signo \"#\" al comienzo de una línea, se convierte en un comentario\n",
    "# y no se ejecuta como código (Python lo ignora). "
   ]
  },
  {
   "cell_type": "markdown",
   "metadata": {},
   "source": [
    "Para crear una nueva celda, puedes seleccionar \"Insert\" $\\rightarrow$ \"Insert Cell Below\" (o \"Insert Cell Above\") en la barra de herramientas de arriba. \n"
   ]
  },
  {
   "cell_type": "markdown",
   "metadata": {},
   "source": [
    "#### Ejercicio: Crea una nueva celda aquí abajo, e imprime un mensaje (el que tú quieras) usando el comando **print**:"
   ]
  },
  {
   "cell_type": "code",
   "execution_count": null,
   "metadata": {},
   "outputs": [],
   "source": [
    "print('Este es mi mensaje')"
   ]
  },
  {
   "cell_type": "markdown",
   "metadata": {},
   "source": [
    "#### Ejercicio: Crea una nueva celda aqui abajo, y evalúa el producto 8 * 5:"
   ]
  },
  {
   "cell_type": "code",
   "execution_count": null,
   "metadata": {},
   "outputs": [],
   "source": [
    "8*5"
   ]
  },
  {
   "cell_type": "markdown",
   "metadata": {},
   "source": [
    "## 2.2 Guardando datos en variables:\n",
    "El \"kernel\" mantiene el \"estado\" de los cálculos hechos en un cuaderno. Por ejemplo, puedes guardar en una \"variable\" algún valor o el resultado de un cálculo. Puedes ponerle el nombre que se te antoje a tus variables. \n"
   ]
  },
  {
   "cell_type": "code",
   "execution_count": null,
   "metadata": {},
   "outputs": [],
   "source": [
    "mi_variable_1 = \"Cuanto es 2 x 4 ?\"\n",
    "chango_loco = 2 * 4"
   ]
  },
  {
   "cell_type": "markdown",
   "metadata": {},
   "source": [
    "y utilizarlas en otra celda de código:"
   ]
  },
  {
   "cell_type": "code",
   "execution_count": null,
   "metadata": {},
   "outputs": [],
   "source": [
    "print(mi_variable_1)\n",
    "print(chango_loco)\n",
    "print(\"Wow, Magia!\")"
   ]
  },
  {
   "cell_type": "markdown",
   "metadata": {},
   "source": [
    "#### Ejercicio (4 líneas de código): Crea una nueva celda aquí abajo, y guarda en una variable llamada \"mi_numero_1\" el número 5 y en otra variable, \"mi_numero_2\", el número 300.  Multiplica las dos variables, y asigna el resultado a una nueva variable, \"mi_numero_3\". Imprime el valor de esta última variable. \n",
    "\n"
   ]
  },
  {
   "cell_type": "code",
   "execution_count": null,
   "metadata": {
    "deletable": false,
    "nbgrader": {
     "checksum": "7988c147f183cab44ade9bf941a2a9e4",
     "grade": true,
     "grade_id": "cell-2134f6b61a3da061",
     "locked": false,
     "points": 1,
     "schema_version": 1,
     "solution": true
    }
   },
   "outputs": [],
   "source": [
    "# YOUR CODE HERE\n",
    "raise NotImplementedError()"
   ]
  },
  {
   "cell_type": "markdown",
   "metadata": {},
   "source": [
    "## 2.3 Interrumpir código\n",
    "El código se ejecuta en una cosa que se llama el \"IPython Kernel\". Siempre que el circulito de la esquina de hasta arriba a la derecha este relleno (negro), quiere decir que el Kernel está ejecutando código (\"está pensando\"). \n",
    "\n",
    "El Kernel se puede interrumpir o re-iniciar. Intenta correr la siguiente celda y luego presiona el botón <button class='btn btn-default btn-xs'><i class='icon-stop fa fa-stop'></i></button> en la barra de herramientas de arriba. "
   ]
  },
  {
   "cell_type": "code",
   "execution_count": null,
   "metadata": {},
   "outputs": [],
   "source": [
    "import time\n",
    "time.sleep(10) #este comando hace que Python cuente hasta 10 segundos "
   ]
  },
  {
   "cell_type": "markdown",
   "metadata": {},
   "source": [
    "## 2.4 Reiniciar el Kernel\n",
    "\n",
    "También puedes reiniciar el Kernel completo. Esto se hace picándole al botón <button class='btn btn-default btn-xs'><i class='fa fa-repeat icon-repeat'></i></button> en la barra de herramientas de arriba. Cuando reinicias el Kernel, se pierden los valores de todas las variables que definiste en las celdas de tu cuaderno. Si reinicias el Kernel, debes volver a ejecutar todas las celdas de tu cuaderno."
   ]
  },
  {
   "cell_type": "markdown",
   "metadata": {},
   "source": [
    "# 3 Python Básico 1"
   ]
  },
  {
   "cell_type": "markdown",
   "metadata": {},
   "source": [
    "## 3.1 Tipos de variables"
   ]
  },
  {
   "cell_type": "markdown",
   "metadata": {},
   "source": [
    "Enteros: \n",
    "\n",
    "```python\n",
    "3,5,7,9,...\n",
    "```\n",
    "\n",
    "Reales: \n",
    "\n",
    "```python\n",
    "15.7, 3.14159, 2/3...\n",
    "```\n",
    "    \n",
    "Complejos: \n",
    "\n",
    "```python\n",
    "13 - 7j, 5 + 4/5j, 8.14 - 6.2j\n",
    "```\n",
    "    \n",
    "Cadenas de texto como: \n",
    "\n",
    "```python\n",
    "\"Hola mamá, ¡Estoy en programando en Python!\"\n",
    "```\n",
    "    \n",
    "Valores Booleanos \n",
    "\n",
    "```python\n",
    "True (cierto) y False (falso)\n",
    "```"
   ]
  },
  {
   "cell_type": "code",
   "execution_count": null,
   "metadata": {},
   "outputs": [],
   "source": [
    "# Esto es un \"String\"\n",
    "a = \"Python Rules!\""
   ]
  },
  {
   "cell_type": "code",
   "execution_count": null,
   "metadata": {},
   "outputs": [],
   "source": [
    "# Esto es un entero\n",
    "b = 22"
   ]
  },
  {
   "cell_type": "code",
   "execution_count": null,
   "metadata": {},
   "outputs": [],
   "source": [
    "# Còmo sabemos qué tipo de variable tenemos?\n",
    "type(a)"
   ]
  },
  {
   "cell_type": "code",
   "execution_count": null,
   "metadata": {},
   "outputs": [],
   "source": [
    "type('jajaja')"
   ]
  },
  {
   "cell_type": "code",
   "execution_count": null,
   "metadata": {},
   "outputs": [],
   "source": [
    "type(45.0)"
   ]
  },
  {
   "cell_type": "markdown",
   "metadata": {},
   "source": [
    "## 3.2 Números\n",
    "\n",
    "Es importante para un óptimo desempeño (y correcto) elegir el tipo de número\n",
    "\n",
    "### Reales\n"
   ]
  },
  {
   "cell_type": "code",
   "execution_count": null,
   "metadata": {},
   "outputs": [],
   "source": [
    "r1 = 3.14149\n",
    "\n",
    "# También podemos usar la notación cientifíca convencional \n",
    "\n",
    "r2 = 5.7e5"
   ]
  },
  {
   "cell_type": "code",
   "execution_count": null,
   "metadata": {},
   "outputs": [],
   "source": [
    "# Convertir tipos de números \n",
    "\n",
    "# Python convierte por default a flotante los números involucrados en una operación.\n",
    "type(1+2.0)"
   ]
  },
  {
   "cell_type": "code",
   "execution_count": null,
   "metadata": {},
   "outputs": [],
   "source": [
    "type((2*4+5)*(1.0*4+3))"
   ]
  },
  {
   "cell_type": "code",
   "execution_count": null,
   "metadata": {},
   "outputs": [],
   "source": [
    "# Funciones incorporados int(), float(), complex()\n",
    "int(3.14159)"
   ]
  },
  {
   "cell_type": "code",
   "execution_count": null,
   "metadata": {},
   "outputs": [],
   "source": [
    "int(9.99)"
   ]
  },
  {
   "cell_type": "markdown",
   "metadata": {},
   "source": [
    "### Notas de algunas operaciones "
   ]
  },
  {
   "cell_type": "code",
   "execution_count": null,
   "metadata": {},
   "outputs": [],
   "source": [
    "# División entera\n",
    "3.5 // 2"
   ]
  },
  {
   "cell_type": "code",
   "execution_count": null,
   "metadata": {},
   "outputs": [],
   "source": [
    "# Modulos\n",
    "5 % 2"
   ]
  },
  {
   "cell_type": "code",
   "execution_count": null,
   "metadata": {},
   "outputs": [],
   "source": [
    "# División\n",
    "x = 2/3\n",
    "print(x)"
   ]
  },
  {
   "cell_type": "markdown",
   "metadata": {
    "collapsed": true
   },
   "source": [
    "## 3.3 Strings o Cadenas (para los anglofobos)\n",
    "\n",
    "Las cadenas no son más que texto encerrado entre comillas simples ('cadena') o dobles (\"cadena\")"
   ]
  },
  {
   "cell_type": "code",
   "execution_count": null,
   "metadata": {},
   "outputs": [],
   "source": [
    "# Todas las siguinetes son equivalentes."
   ]
  },
  {
   "cell_type": "code",
   "execution_count": null,
   "metadata": {},
   "outputs": [],
   "source": [
    "nombre = 'Carmen'\n",
    "nombre = \"Carmen\"\n",
    "nombre = '''Carmen'''\n",
    "nombre = \"\"\"Carmen\"\"\""
   ]
  },
  {
   "cell_type": "code",
   "execution_count": null,
   "metadata": {},
   "outputs": [],
   "source": [
    "# Las cadenas con comillas triples se pueden repartir en varias.\n",
    "# Y las puedes sumar\n",
    "mi_cancion = nombre +\"\"\", se me perdio la cadenita,\n",
    "                Con el cristo nazareno,\n",
    "                Que tú me regalaste Carmen,\n",
    "                Que tú me regalaste,\n",
    "                Que tú me regalaste.\"\"\""
   ]
  },
  {
   "cell_type": "code",
   "execution_count": null,
   "metadata": {},
   "outputs": [],
   "source": [
    "mi_cancion"
   ]
  },
  {
   "cell_type": "code",
   "execution_count": null,
   "metadata": {},
   "outputs": [],
   "source": [
    "nombre[0]"
   ]
  },
  {
   "cell_type": "code",
   "execution_count": null,
   "metadata": {},
   "outputs": [],
   "source": [
    "# El último caracter \n",
    "nombre[-1]"
   ]
  },
  {
   "cell_type": "code",
   "execution_count": null,
   "metadata": {},
   "outputs": [],
   "source": [
    "# Vericando la membresia de un string en otro"
   ]
  },
  {
   "cell_type": "code",
   "execution_count": null,
   "metadata": {},
   "outputs": [],
   "source": [
    "'i' in 'Einstein'"
   ]
  },
  {
   "cell_type": "markdown",
   "metadata": {},
   "source": [
    "## Ejercicio (1pt): \n",
    "En la siguiente celda, define una variable llamada mi_nombre con tu nombre:"
   ]
  },
  {
   "cell_type": "code",
   "execution_count": null,
   "metadata": {
    "deletable": false,
    "nbgrader": {
     "checksum": "fc5e0a50bef39b27750a747021cecfd6",
     "grade": true,
     "grade_id": "cell-91aed4c1144500a4",
     "locked": false,
     "points": 1,
     "schema_version": 1,
     "solution": true
    }
   },
   "outputs": [],
   "source": [
    "# YOUR CODE HERE\n",
    "raise NotImplementedError()\n",
    "print mi_nombre"
   ]
  },
  {
   "cell_type": "markdown",
   "metadata": {},
   "source": [
    "## 3.4 Listas\n",
    "\n",
    "Las  listas son conjuntos ordenados de variables, pueden ser listas de números, de cadenas de caracterés, de listas o mezclas de ellas.\n"
   ]
  },
  {
   "cell_type": "code",
   "execution_count": null,
   "metadata": {},
   "outputs": [],
   "source": [
    "# Vamos a crear una lista\n",
    "mi_lista = []"
   ]
  },
  {
   "cell_type": "code",
   "execution_count": null,
   "metadata": {},
   "outputs": [],
   "source": [
    "mi_lista"
   ]
  },
  {
   "cell_type": "code",
   "execution_count": null,
   "metadata": {},
   "outputs": [],
   "source": [
    "# Lista de numeros\n",
    "mis_numeros = [1,2,3,4,5]"
   ]
  },
  {
   "cell_type": "code",
   "execution_count": null,
   "metadata": {},
   "outputs": [],
   "source": [
    "# Lista de caracteres\n",
    "cluberos = ['Dormilones','Alegres','Rapidos','Modestos','Geniales','Fabulosos','Mazana','Comicos','Emotivos',\n",
    "            'Olvida-nombres','Especiales','Maravillosos','Extranos','Hambrientos']\n",
    "print cluberos"
   ]
  },
  {
   "cell_type": "markdown",
   "metadata": {},
   "source": [
    "Oh no, olvidamos algunos?\n",
    "No importa podemos agregarlos"
   ]
  },
  {
   "cell_type": "code",
   "execution_count": null,
   "metadata": {},
   "outputs": [],
   "source": [
    "cluberos.append('Barbaros')\n",
    "cluberos.append('Fabulosos')\n",
    "print cluberos"
   ]
  },
  {
   "cell_type": "markdown",
   "metadata": {},
   "source": [
    "Sigo olvidando adjetivos?\n",
    "Agrega los que faltan con la función **append** en la siguiente celda."
   ]
  },
  {
   "cell_type": "code",
   "execution_count": null,
   "metadata": {
    "deletable": false,
    "nbgrader": {
     "checksum": "d730c43b7d1db87d78718a7a6812a47a",
     "grade": true,
     "grade_id": "cell-bc08022d2bc97fa4",
     "locked": false,
     "points": 1,
     "schema_version": 1,
     "solution": true
    }
   },
   "outputs": [],
   "source": [
    "# YOUR CODE HERE\n",
    "raise NotImplementedError()"
   ]
  },
  {
   "cell_type": "markdown",
   "metadata": {
    "collapsed": true
   },
   "source": [
    "# Boleanos"
   ]
  },
  {
   "cell_type": "markdown",
   "metadata": {},
   "source": [
    "Mientras que los enteros, los reales y las cadenas poseen un numero ilimitado de posibles valores, \n",
    "los datos de tipo booleano \n",
    "solo poseen dos posibles valores: True y False. Cuando los escribes en Python, estos valores True y False no llevan comillas y siempre se escriben empezando con una T y F mayúsculas respectivamente, con el resto de la palabra en minúsculas. Como cualquier otro valor, los booleanos se pueden almacenar en variables, como en el siguiente ejemplo:"
   ]
  },
  {
   "cell_type": "code",
   "execution_count": null,
   "metadata": {},
   "outputs": [],
   "source": [
    "Estudiante = True"
   ]
  },
  {
   "cell_type": "code",
   "execution_count": null,
   "metadata": {},
   "outputs": [],
   "source": [
    "Trabajador = True"
   ]
  },
  {
   "cell_type": "code",
   "execution_count": null,
   "metadata": {},
   "outputs": [],
   "source": [
    "print ('%s es Trabajador: %r'%(mi_nombre,Trabajador))"
   ]
  },
  {
   "cell_type": "markdown",
   "metadata": {},
   "source": [
    "# 4 Importar módulos: \n",
    "\n",
    "Los módulos de Python son colecciones o librerías de funciones que podemos importar a nuestro código para utilizarlas. Piénsalos como unas cajas de herramientas que puedes abrir para utilizar en tu código. \n",
    "\n",
    "Vamos a importar algunos módulos para manipulación de imágenes, arreglos, y otras funciones.\n",
    "\n",
    "La manera más sencilla de importar una librería completa es así:"
   ]
  },
  {
   "cell_type": "code",
   "execution_count": null,
   "metadata": {},
   "outputs": [],
   "source": [
    "import wordcloud "
   ]
  },
  {
   "cell_type": "code",
   "execution_count": null,
   "metadata": {},
   "outputs": [],
   "source": [
    "from os import path\n",
    "from wordcloud  import WordCloud\n",
    "\n",
    "\n",
    "text = '\\n'.join(cluberos)\n",
    "# Generate a word cloud image\n",
    "wordcloud = WordCloud().generate(text)\n",
    "\n",
    "# Display the generated image:\n",
    "# the matplotlib way:\n",
    "import matplotlib.pyplot as plt\n",
    "plt.imshow(wordcloud, interpolation='bilinear')\n",
    "plt.axis(\"off\")\n",
    "\n",
    "# lower max_font_size\n",
    "wordcloud = WordCloud(max_font_size=40).generate(text)\n",
    "plt.figure()\n",
    "plt.imshow(wordcloud, interpolation=\"bilinear\")\n",
    "plt.axis(\"off\")\n",
    "plt.show()"
   ]
  },
  {
   "cell_type": "markdown",
   "metadata": {},
   "source": [
    "# 4. Control de Flujo"
   ]
  },
  {
   "cell_type": "markdown",
   "metadata": {},
   "source": [
    "Ahora que conocen los tipos de variables y operaciones básicas de Python y sus propiedades, \n",
    "es hora de controlar el flujo del código. Los programas no son sólo una serie de instrucciones que se ejecutan una tras otras, ¡NO!\n",
    "El verdadero poder de la programación reside en que nuestros programas, dependiendo de como se evaluen las instrucciones, pueden decidir si ignoran una instrucción, la repitan o eligen una entre varias opciones para ejecutar. De hecho, te puedo asegurar que practicamente nunca querras crear un programa que se ejecuta desde la primera, hasta la ultima linea. Los \"Flow Control Statement\" pueden decidir que instrucciones de Python se ejecutarán. "
   ]
  },
  {
   "cell_type": "markdown",
   "metadata": {},
   "source": [
    "Una vez que domines el flujo de control estarás preparado para hacer tus primeros programas. Una vez que tengas algo de práctica \n",
    "haciendo programas, revisaremos las \"Funciones\". Con las funciones y lo anterior, estarás listo para hacer tus primeros programas funcionales y scripts, como les había prometido. Pero primero un repaso sobre el concepto de valores y operadores booleanos. "
   ]
  },
  {
   "cell_type": "markdown",
   "metadata": {},
   "source": [
    "## Bloques de Código "
   ]
  },
  {
   "cell_type": "markdown",
   "metadata": {},
   "source": [
    "Las líneas de código de Python se pueden agrupar en bloques. Puedes diferenciar cuando un bloque comienza y termina a partir de la sangría de las líneas de código. Hay tres reglas para los bloques.\n",
    "\n",
    "* Los bloques comienzan cuando aumenta la sangría.\n",
    "* Los bloques pueden contener otros bloques. \n",
    "* Un bloque termina cuando la sangría se vuelve cero o cuando contiene otro bloque anidado.\n",
    "\n",
    "Analiza el siguiente ejemplo."
   ]
  },
  {
   "cell_type": "code",
   "execution_count": null,
   "metadata": {},
   "outputs": [],
   "source": [
    "name = 'Sofía' #1     \n",
    "password = 'Noexisto' #2\n",
    "if name == 'Sofia': #3\n",
    "    print 'Hola Sofia' #4\n",
    "    if password == 'Noexisto': #5\n",
    "        print 'Bienvenida.' #6\n",
    "    else: #7\n",
    "        print '¡Contraseña incorrecta impostor!.' #8"
   ]
  },
  {
   "cell_type": "markdown",
   "metadata": {},
   "source": [
    "El primer bloque de código comienza en la linea 4 con el print 'Hola Sofia' y contiene todas las lineas que le siguen. \n",
    "El segundo bloque de código es la línea que pone print 'Bienvenida' (linea 6). Por último, el tercer bloque es una sola línea que imprime '¡Contraseña incorrecta impostor!' (linea 8)."
   ]
  },
  {
   "cell_type": "markdown",
   "metadata": {},
   "source": [
    "# Python if, else y el if anidado"
   ]
  },
  {
   "cell_type": "markdown",
   "metadata": {},
   "source": [
    "## if\n",
    "\n",
    "La toma de decisiones es requerida cuando queremos que se ejecute un bloque de código solo sí cumple una condición. Las sentencias (o enunciados, quizá ya habrán notado que uso ambos nombre indiscriminadamente) mas comunes para ayudarnos en la toma de decisiones, y por ello en el control de flujo, es el enunciado \"if\". El bloque de código de un \"if\" se ejecuta si la condición de este resulta ser True. En caso contrario, simplemente es ignorado. \n",
    "\n",
    "Un \"if\" se compone de los siguientes elementos: \n",
    "\n",
    "* La palabra clave \"if\"\n",
    "* Una condición (esta es la que se evalua a True o False)\n",
    "* Dos puntos \":\"\n",
    "* Empezando en la siguiente línea, el bloque de código que se ha de ejecutar (también llamado clausula del \"if\")\n",
    "\n",
    "if condicion: (Nunca olvides los \":\")\n",
    "    Un codigo locochon va aqui. (clausula)\n",
    "\n",
    "Nota: Python interpreta valores distintos de cero como True. Para Python None y 0 son False."
   ]
  },
  {
   "cell_type": "markdown",
   "metadata": {},
   "source": [
    "Analiza el siguiente programa ejemplo. "
   ]
  },
  {
   "cell_type": "code",
   "execution_count": null,
   "metadata": {},
   "outputs": [],
   "source": [
    "# En este programa el usuario introduce un número y se revisa si el numero es positivo.\n",
    "# Si el numero es positivo, entonces imprimimos un mensaje\n",
    "\n",
    "num = float(input(\"Introduce un número: \"))\n",
    "if num > 0:\n",
    "    print 'Número positivo.'\n",
    "print 'Esta línea siempre se imprime porque esta fuera del if.'"
   ]
  },
  {
   "cell_type": "markdown",
   "metadata": {},
   "source": [
    "## else\n",
    "Una sentencia if puede estar seguida de un else. La clausula else es ejecutada solamente cuando la cláusula if es False. Una\n",
    "cláusula else, y en el código estas clausulas siempre tienen los siguientes elementos: \n",
    "\n",
    "* La palabra clave \"else\"\n",
    "* Dos puntos \":\"\n",
    "* Empezando en la siguiente línea, un blóque anidado de código (llamado clâusula else)\n",
    "\n",
    "Vamos a crear un programa con if con else. Analiza el siguiente ejemplo. \n"
   ]
  },
  {
   "cell_type": "code",
   "execution_count": null,
   "metadata": {},
   "outputs": [],
   "source": [
    "num = float(input(\"Introduce un numero: \"))\n",
    "if num > 0:\n",
    "    print 'Numero positivo.'\n",
    "else: \n",
    "    print \"El número es negativo.\"\n",
    "print 'Esta línea siempre se imprime porque esta fuera del if.'"
   ]
  },
  {
   "cell_type": "markdown",
   "metadata": {},
   "source": [
    "Las cláusulas \"if\" y \"else\" son unicas, son unicas en el sentido de que solo se ejecutarán una sola vez, con una sola opción. Puede que alguna vez quieras ejecutar una de muchas opciones, ahí es donde entran los elif. Las clausulas elif son como una cláusula \"else if\", estas se ejecutam siempre después de un if o de otro elif. Estas clausulas nos brindan otra opción para ejecutar solo si la clausula anterior es False. En el código, una cláusula elif siempre consiste de: \n",
    "\n",
    "* La palabra clave \"elif\"\n",
    "* Una condicion (una expresion que se evalua a True o False)\n",
    "* Dos puntos \":\"\n",
    "* Empezando en la siguiente linea, un bloque de codigo anidado (llamado la clausula del elif)\n",
    "\n",
    "Vamos a añadir a nuestro programa que revisa numeros un elif para hacerlo más sofisticado. "
   ]
  },
  {
   "cell_type": "code",
   "execution_count": null,
   "metadata": {},
   "outputs": [],
   "source": [
    "# En este programa el usuario introduce un número, se revisa si el numero es positivo, negativo o cero.\n",
    "# Si el numero es positivo, entonces imprimimos un mensaje\n",
    "\n",
    "num = float(input(\"Introduce un numero: \"))\n",
    "if num > 0:\n",
    "    print 'Numero positivo.'\n",
    "elif num == 0: # Fijate como use el doble igual y no uno solo.\n",
    "    print 'Este numero no es ni positivo, ni negativo, es cero.'\n",
    "else: \n",
    "    print \"El número es negativo.\"\n",
    "print 'Esta linea siempre se imprime porque esta fuera del if.'"
   ]
  },
  {
   "cell_type": "code",
   "execution_count": null,
   "metadata": {},
   "outputs": [],
   "source": [
    "## For loops\n",
    "\n",
    "Un bucle, o for loop va sobre todos los elementos de una lista, **nota la identación, o espacio** antes\n",
    "de empezar un foor loop, por ejemplo:"
   ]
  },
  {
   "cell_type": "code",
   "execution_count": null,
   "metadata": {},
   "outputs": [],
   "source": [
    "for i in cluberos:\n",
    "    print i"
   ]
  },
  {
   "cell_type": "markdown",
   "metadata": {},
   "source": [
    "Tu puedes también por ejemplo implementar dos bucles anidados:"
   ]
  },
  {
   "cell_type": "code",
   "execution_count": null,
   "metadata": {},
   "outputs": [],
   "source": [
    "for i in cluberos:\n",
    "    for j in cluberos:\n",
    "        print i,j\n",
    "print \"Hecho!\""
   ]
  },
  {
   "cell_type": "markdown",
   "metadata": {},
   "source": [
    "O correrlos junto con el índice del elemento."
   ]
  },
  {
   "cell_type": "code",
   "execution_count": null,
   "metadata": {},
   "outputs": [],
   "source": [
    "for index,item in enumerate(cluberos):\n",
    "    print index,item\n",
    "\n",
    "print \"Hecho!\""
   ]
  },
  {
   "cell_type": "markdown",
   "metadata": {},
   "source": [
    "## <i class=\"fa fa-book\"></i> Extra: Recursos adicionales\n"
   ]
  },
  {
   "cell_type": "markdown",
   "metadata": {},
   "source": [
    "\n",
    "### A gallery of interesting IPython Notebooks\n",
    "* https://github.com/ipython/ipython/wiki/A-gallery-of-interesting-IPython-Notebooks#introductory-tutorials\n"
   ]
  },
  {
   "cell_type": "code",
   "execution_count": null,
   "metadata": {},
   "outputs": [],
   "source": []
  }
 ],
 "metadata": {
  "kernelspec": {
   "display_name": "Python [conda env:my-rdkit-env]",
   "language": "python",
   "name": "conda-env-my-rdkit-env-py"
  },
  "language_info": {
   "codemirror_mode": {
    "name": "ipython",
    "version": 2
   },
   "file_extension": ".py",
   "mimetype": "text/x-python",
   "name": "python",
   "nbconvert_exporter": "python",
   "pygments_lexer": "ipython2",
   "version": "2.7.13"
  }
 },
 "nbformat": 4,
 "nbformat_minor": 1
}
