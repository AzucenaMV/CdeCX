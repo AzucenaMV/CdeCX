{
 "cells": [
  {
   "cell_type": "markdown",
   "metadata": {},
   "source": [
    "Before you turn this problem in, make sure everything runs as expected. First, **restart the kernel** (in the menubar, select Kernel$\\rightarrow$Restart) and then **run all cells** (in the menubar, select Cell$\\rightarrow$Run All).\n",
    "\n",
    "Make sure you fill in any place that says `YOUR CODE HERE` or \"YOUR ANSWER HERE\", as well as your name and collaborators below:"
   ]
  },
  {
   "cell_type": "code",
   "execution_count": null,
   "metadata": {},
   "outputs": [],
   "source": [
    "NAME = \"\"\n",
    "COLLABORATORS = \"\""
   ]
  },
  {
   "cell_type": "markdown",
   "metadata": {},
   "source": [
    "---"
   ]
  },
  {
   "cell_type": "markdown",
   "metadata": {},
   "source": [
    "# Funciones en Python y bucles"
   ]
  },
  {
   "cell_type": "markdown",
   "metadata": {},
   "source": [
    "En python una función es un conjunto de expresiones para llevar a cabo una tarea específica. Las funciones nos ayudan a dividir nuestros programas en secciones más pequeñas, que facilitan su ejecución y mejoran su alcance. En la medida en que nuestros programas se vuelven más largos y complejos, las funciones nos ayudan a mantener nuestro programa manejable y organizado. Ademas nos ayudan a evitar repetitividad y reutilizar nuestro código. "
   ]
  },
  {
   "cell_type": "markdown",
   "metadata": {},
   "source": [
    "# 1. Sintaxis de las funciones "
   ]
  },
  {
   "cell_type": "markdown",
   "metadata": {},
   "source": [
    "```python\n",
    "def nombre_de_funcion(parametros):\n",
    "        \"\"\"Que hace la funcion\"\"\"\n",
    "        codigo\n",
    "        return\n",
    "```\n",
    "\n",
    "Y para ejecutarla la sintaxis es:\n",
    "\n",
    "```python\n",
    "nombre_de_funcion(parametros)\n",
    "```"
   ]
  },
  {
   "cell_type": "markdown",
   "metadata": {},
   "source": [
    "En la celda anterior se muestran los elementos de una función:\n",
    "\n",
    "    1.- La palabra clave 'def' marca el inicio de la definición de una función.\n",
    "    2.- El nombre de la función para identificarla de manera inequívoca. \n",
    "    3.- Los parámetros que le pasaremos a nuestra función. Los cuales son opcionales. \n",
    "    4.- Dos puntos (:) para marcar el final de la primera linea de definición. \n",
    "    5.- Un string opcional que nos recuerde que hace nuestra función. \n",
    "    6.- Una o más expresiones que hacen el cuerpo del código de nuestra función. Las expresiones pueden formar múltiples bloques de código. (Recuerda que los bloques se diferencian entre ellos por su sangría)\n",
    "    7.- Una expresion \"return\" opcional que devuelve el valor de la función.\n",
    "    \n",
    "Analiza el siguiente ejemplo."
   ]
  },
  {
   "cell_type": "code",
   "execution_count": null,
   "metadata": {},
   "outputs": [],
   "source": [
    "# En esta celda vamos a definir la funcion \"buenos_dias\"\n",
    "def buenos_dias(nombre):\n",
    "    \"\"\"Esta funcion toma un nombre\n",
    "    como un parametro y te devuelve\n",
    "    los buenos dias\"\"\"\n",
    "    print 'Hola, ' + nombre + '. Buenos días!'"
   ]
  },
  {
   "cell_type": "code",
   "execution_count": null,
   "metadata": {
    "deletable": false,
    "nbgrader": {
     "checksum": "edf28ee11d66984d4e23583b2ba3a9de",
     "grade": true,
     "grade_id": "cell-bf12cf987f152522",
     "locked": false,
     "points": 1,
     "schema_version": 1,
     "solution": true
    }
   },
   "outputs": [],
   "source": [
    "# En esta celda vamos a llamar a la funcion \"buenos dias\"\n",
    "# YOUR CODE HERE\n",
    "raise NotImplementedError()"
   ]
  },
  {
   "cell_type": "markdown",
   "metadata": {},
   "source": [
    "# 2. Docstring"
   ]
  },
  {
   "cell_type": "markdown",
   "metadata": {},
   "source": [
    "El primer string después del encabezado de la función (primera línea), es llamado \"docstring\", y es la abreviación de \"documentation string\". Como ya lo mencionamos, se usa para explicar brevemente que hace la función. Aunque es opcional, la documentación es una buena práctica de la programación. A menos de que recuerdes con exactitud todas tus comidas del día de la semana pasada, usa la documentacion en tus funciones. "
   ]
  },
  {
   "cell_type": "raw",
   "metadata": {},
   "source": [
    "En el ejemplo anterior, colocamos un docstring inmediatamente después del encabezado. Generalmente usamos comillas triples para que nuestro docstring pueda estar en múltiples lineas. Este string está disponible para nosotros a través del atributo __doc__ de la función. Por ejemplo:"
   ]
  },
  {
   "cell_type": "code",
   "execution_count": null,
   "metadata": {},
   "outputs": [],
   "source": [
    "print(buenos_dias.__doc__)"
   ]
  },
  {
   "cell_type": "markdown",
   "metadata": {},
   "source": [
    "# 3. La expresión return"
   ]
  },
  {
   "cell_type": "markdown",
   "metadata": {},
   "source": [
    "La sentencia return se utiliza para terminar una función y volver al lugar de donde fue llamada."
   ]
  },
  {
   "cell_type": "markdown",
   "metadata": {},
   "source": [
    "```python\n",
    "return [lista_de_expresiones]\n",
    "```"
   ]
  },
  {
   "cell_type": "markdown",
   "metadata": {},
   "source": [
    "Esta sentencia puede contener la expresión a evaluar y devolverá el valor. Si la expresión no está en la sentencia o la sentencia return no está presente dentro de la funcion, entonces la función devolverá el objeto \"None\". Por ejemplo:"
   ]
  },
  {
   "cell_type": "code",
   "execution_count": null,
   "metadata": {},
   "outputs": [],
   "source": [
    "print(buenos_dias('Maria'))"
   ]
  },
  {
   "cell_type": "markdown",
   "metadata": {},
   "source": [
    "Aquí, se devolvió el valor \"None\"."
   ]
  },
  {
   "cell_type": "markdown",
   "metadata": {},
   "source": [
    "## Programa ejemplo de return "
   ]
  },
  {
   "cell_type": "code",
   "execution_count": null,
   "metadata": {},
   "outputs": [],
   "source": [
    "# En esta celda definimos la funcion.\n",
    "def valor_absoluto(num):\n",
    "    \"\"\"\n",
    "    Esta funcion devuelve el valor\n",
    "    absoluto de nu numero.\n",
    "    \"\"\"\n",
    "    if num > 0:\n",
    "        return num\n",
    "    else:\n",
    "        return -num"
   ]
  },
  {
   "cell_type": "code",
   "execution_count": null,
   "metadata": {},
   "outputs": [],
   "source": [
    "# En esta celda llamamos a la función sobre dos valores para verificar que funciona como deberia.\n",
    "print(valor_absoluto(4))\n",
    "print(valor_absoluto(-2))"
   ]
  },
  {
   "cell_type": "markdown",
   "metadata": {},
   "source": [
    "# <i class=\"fa fa-check-circle\"></i> Ejercicio 1: Ejemplo de Funciones"
   ]
  },
  {
   "cell_type": "markdown",
   "metadata": {},
   "source": [
    "Vamos a escribir para ustedes un programa de \"Juega a Adivinar el Número\". \n",
    "Analicen paso a paso este programa y pongan comentarios \n",
    "en el diciendo que cosa hace cada línea de código. "
   ]
  },
  {
   "cell_type": "code",
   "execution_count": null,
   "metadata": {},
   "outputs": [],
   "source": [
    "# Este es un juego de adivina el numero. \n",
    "\n",
    "import random \n",
    "numeroSecreto = random.randint(1, 1001)\n",
    "print 'Estoy pensando en un número entre 1 y 1000.'\n",
    "\n",
    "# Le pedimos al usuario que adivine 10 veces.\n",
    "for intentosTomados in range(1,11):\n",
    "    print 'Vamos intenta adivinarlo.'\n",
    "    intento = int(input())\n",
    "    \n",
    "    if intento < numeroSecreto:\n",
    "        print 'Tu numero es más chico.'\n",
    "    elif intento > numeroSecreto:\n",
    "        print 'Tu numero es más grande.'\n",
    "    else:\n",
    "        break\n",
    "    \n",
    "if intento == numeroSecreto:\n",
    "    print '¡Buen trabajo has adivinado mi número en ' + str(intentosTomados) + ' intentos!'\n",
    "else:\n",
    "    print 'Lo siento, el número en el que estaba pensando es ' + str(numeroSecreto)    "
   ]
  },
  {
   "cell_type": "markdown",
   "metadata": {},
   "source": []
  },
  {
   "cell_type": "markdown",
   "metadata": {
    "collapsed": true
   },
   "source": [
    "# <i class=\"fa fa-check-circle\"></i> Ejercicio 2: La tortuga graficadora\n",
    "\n",
    "Hemos implementado para ti una la tortuga que grafica, la idea basica es \n",
    "el trajecto de la tortuga será una línea recta por paso.\n",
    "También vamos a dibujar una vuelta o un salto, con lo que podremos cambiar de posición sin dibujar una línea.\n",
    "\n",
    "Cada tortuga debe saber donde iniciar para eso hay que darle una posición x y y en el plano 2D,\n",
    "y un ángulo para que sepa hacia donde caminar, saltar o girar.\n"
   ]
  },
  {
   "cell_type": "code",
   "execution_count": null,
   "metadata": {},
   "outputs": [],
   "source": [
    "import matplotlib.pyplot as plt\n",
    "import numpy as np\n",
    "%pylab inline \n",
    "def salto(x,y,angle,step):\n",
    "    '''Esta función obtiene la nueva posición de la tortuga,\n",
    "    dado un punto inicial x,y, un ángulo y el tamaño del salto'''\n",
    "    x_nuevo = x + step* np.cos(angle)\n",
    "    y_nuevo = y + step* np.sin(angle)\n",
    "    return x_nuevo,y_nuevo\n",
    "    \n",
    "\n",
    "def camino(x,y,angle,step):\n",
    "    '''Esta función grafica un paso en el camino de la tortuga del tamaño\n",
    "    step, desde el punto x,y dado un angulo'''\n",
    "    x_nuevo,y_nuevo = salto(x,y,angle,step)\n",
    "    plt.plot([x, x_nuevo], [y, y_nuevo], lw = 2, c=numpy.random.rand(4)) # El color es un numero aleatorio\n",
    "    return x_nuevo,y_nuevo"
   ]
  },
  {
   "cell_type": "code",
   "execution_count": null,
   "metadata": {},
   "outputs": [],
   "source": [
    "plt.figure(figsize = (8, 8)) # Iniciamos la figura\n",
    "\n",
    "x_new = 0    # posicion inicial en x\n",
    "y_new = 0    # posicion inicial en y\n",
    "angle = 10 # angulo inicial\n",
    "step = 1   # una unidad de paso\n",
    "\n",
    "x_new,y_new = camino(x_new,y_new,angle,step)\n",
    "\n",
    "# cambiamos el angulo\n",
    "angle += 10\n",
    "x_new,y_new = camino(x_new,y_new,angle,step)\n",
    "\n",
    "# cambiamos el angulo\n",
    "angle += 10\n",
    "x_new,y_new = camino(x_new,y_new,angle,step)\n",
    "\n",
    "# cambiamos el angulo\n",
    "angle += 10\n",
    "x_new,y_new = camino(x_new,y_new,angle,step)\n",
    "\n",
    "# cambiamos el angulo\n",
    "angle += 10\n",
    "x_new,y_new = camino(x_new,y_new,angle,step)\n",
    "\n",
    "\n",
    "# cambiamos el angulo\n",
    "angle += 10\n",
    "x_new,y_new = camino(x_new,y_new,angle,step)\n",
    "\n",
    "# cambiamos el angulo\n",
    "angle += 10\n",
    "x_new,y_new = camino(x_new,y_new,angle,step)\n",
    "\n",
    "# cambiamos el angulo\n",
    "angle += 10\n",
    "x_new,y_new = camino(x_new,y_new,angle,step)\n",
    "\n",
    "# cambiamos el angulo\n",
    "angle += 10\n",
    "x_new,y_new = camino(x_new,y_new,angle,step)\n"
   ]
  },
  {
   "cell_type": "markdown",
   "metadata": {},
   "source": [
    "¿Qué tienes que hacer si quieres que la tortuga camine 100 veces, pasos de 1 y gire 10 grados?\n",
    "\n",
    "¿Copiar y pegar 100 veces la funcion para caminar?\n",
    "\n",
    "En este punto la función for loop llega al rescate. \n",
    "\n"
   ]
  },
  {
   "cell_type": "markdown",
   "metadata": {},
   "source": [
    "Usa un for loop para dar 100 pasos, girando 10 grados en cada uno."
   ]
  },
  {
   "cell_type": "code",
   "execution_count": null,
   "metadata": {
    "deletable": false,
    "nbgrader": {
     "checksum": "2a306b82a9c49f3ccba1c44e17abd228",
     "grade": true,
     "grade_id": "cell-b471e623bbb1802e",
     "locked": false,
     "points": 1,
     "schema_version": 1,
     "solution": true
    }
   },
   "outputs": [],
   "source": [
    "plt.figure(figsize = (8, 8)) # Iniciamos la figura\n",
    "\n",
    "x = 0    # posicion inicial en x\n",
    "y = 0    # posicion inicial en y\n",
    "angle = 10 # angulo inicial\n",
    "step = 1   # una unidad de paso\n",
    "# YOUR CODE HERE\n",
    "raise NotImplementedError()"
   ]
  },
  {
   "cell_type": "markdown",
   "metadata": {},
   "source": [
    "Prueba modificando el tamaño de cada camino de manera propocional al número de paso:"
   ]
  },
  {
   "cell_type": "code",
   "execution_count": null,
   "metadata": {
    "deletable": false,
    "nbgrader": {
     "checksum": "7e3a152f1e798c23f6080e7aa9595bdb",
     "grade": true,
     "grade_id": "cell-6c23539b42665e87",
     "locked": false,
     "points": 1,
     "schema_version": 1,
     "solution": true
    }
   },
   "outputs": [],
   "source": [
    "plt.figure(figsize = (8, 8)) # Iniciamos la figura\n",
    "\n",
    "x = 0    # posicion inicial en x\n",
    "y = 0    # posicion inicial en y\n",
    "angle = 10 # angulo inicial\n",
    "step = 1   # una unidad de paso\n",
    "# YOUR CODE HERE\n",
    "raise NotImplementedError()"
   ]
  },
  {
   "cell_type": "code",
   "execution_count": null,
   "metadata": {},
   "outputs": [],
   "source": []
  }
 ],
 "metadata": {
  "kernelspec": {
   "display_name": "Python [default]",
   "language": "python",
   "name": "python2"
  },
  "language_info": {
   "codemirror_mode": {
    "name": "ipython",
    "version": 2
   },
   "file_extension": ".py",
   "mimetype": "text/x-python",
   "name": "python",
   "nbconvert_exporter": "python",
   "pygments_lexer": "ipython2",
   "version": "2.7.13"
  }
 },
 "nbformat": 4,
 "nbformat_minor": 1
}
